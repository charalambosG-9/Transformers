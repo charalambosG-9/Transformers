{
 "cells": [
  {
   "cell_type": "code",
   "execution_count": 56,
   "metadata": {},
   "outputs": [],
   "source": [
    "import matplotlib.pyplot as plt\n",
    "import torch\n",
    "\n",
    "vocab_size = 1000  \n",
    "d_model = 4 # Needs to be an even number\n",
    "dropout = 0.1\n",
    "max_len = 1000"
   ]
  },
  {
   "cell_type": "code",
   "execution_count": 57,
   "metadata": {},
   "outputs": [
    {
     "name": "stdout",
     "output_type": "stream",
     "text": [
      "Input shape: torch.Size([4, 10])\n",
      "Output shape: torch.Size([4, 10, 4])\n"
     ]
    }
   ],
   "source": [
    "from transformer_classes import Embeddings\n",
    "\n",
    "embedding_layer = Embeddings(vocab_size, d_model)\n",
    "\n",
    "input_tensor = torch.tensor([\n",
    "    [1, 2, 3, 4, 5, 0, 0, 0, 0, 0], \n",
    "    [6, 7, 8, 9, 10, 11, 12, 0, 0, 0],\n",
    "    [13, 14, 15, 16, 17, 18, 19, 20, 0, 0],\n",
    "    [21, 22, 23, 24, 25, 26, 27, 28, 29, 30]\n",
    "])\n",
    "\n",
    "embeddings = embedding_layer(input_tensor)\n",
    "\n",
    "print(\"Input shape:\", input_tensor.shape)  \n",
    "print(\"Output shape:\", embeddings.shape)  "
   ]
  },
  {
   "cell_type": "code",
   "execution_count": null,
   "metadata": {},
   "outputs": [
    {
     "name": "stderr",
     "output_type": "stream",
     "text": [
      "Clipping input data to the valid range for imshow with RGB data ([0..1] for floats or [0..255] for integers).\n"
     ]
    },
    {
     "data": {
      "image/png": "[encoded data removed]",
      "text/plain": [
       "<Figure size 432x288 with 2 Axes>"
      ]
     },
     "metadata": {
      "needs_background": "light"
     },
     "output_type": "display_data"
    }
   ],
   "source": [
    "from transformer_classes import PositionalEncoding\n",
    "\n",
    "def visualize_pe(pe):\n",
    "    \n",
    "    plt.imshow(pe.detach().numpy(), aspect=\"auto\") # other way of doing this?\n",
    "    plt.title(\"Positional Encoding\")\n",
    "    plt.xlabel(\"Encoding Dimension\")\n",
    "    plt.ylabel(\"Position Index\")\n",
    "\n",
    "    # set the tick marks for the axes\n",
    "    if d_model < 10:\n",
    "        plt.xticks(torch.arange(0, d_model))\n",
    "    if max_len < 20:\n",
    "        plt.yticks(torch.arange(max_len-1, -1, -1))\n",
    "    \n",
    "    plt.colorbar()\n",
    "    plt.show()\n",
    "\n",
    "pos_encoder = PositionalEncoding(d_model, max_len, dropout)\n",
    "pe = pos_encoder(embeddings)\n",
    "\n",
    "visualize_pe(pe)\n"
   ]
  }
 ],
 "metadata": {
  "kernelspec": {
   "display_name": "Python 3",
   "language": "python",
   "name": "python3"
  },
  "language_info": {
   "codemirror_mode": {
    "name": "ipython",
    "version": 3
   },
   "file_extension": ".py",
   "mimetype": "text/x-python",
   "name": "python",
   "nbconvert_exporter": "python",
   "pygments_lexer": "ipython3",
   "version": "3.9.7"
  }
 },
 "nbformat": 4,
 "nbformat_minor": 2
}
